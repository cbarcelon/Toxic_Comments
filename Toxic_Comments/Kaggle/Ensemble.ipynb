{
 "cells": [
  {
   "cell_type": "code",
   "execution_count": 1,
   "metadata": {},
   "outputs": [
    {
     "name": "stderr",
     "output_type": "stream",
     "text": [
      "/usr/local/lib/python3.5/dist-packages/sklearn/cross_validation.py:41: DeprecationWarning: This module was deprecated in version 0.18 in favor of the model_selection module into which all the refactored classes and functions are moved. Also note that the interface of the new CV iterators are different from that of this module. This module will be removed in 0.20.\n",
      "  \"This module will be removed in 0.20.\", DeprecationWarning)\n"
     ]
    }
   ],
   "source": [
    "import pandas as pd\n",
    "import numpy as np\n",
    "from sklearn.linear_model import LogisticRegression\n",
    "from sklearn.feature_extraction.text import CountVectorizer, TfidfVectorizer\n",
    "from sklearn.cross_validation import train_test_split"
   ]
  },
  {
   "cell_type": "code",
   "execution_count": 2,
   "metadata": {},
   "outputs": [],
   "source": [
    "df = pd.read_csv('./train.csv')\n",
    "train, test = train_test_split(df, test_size=0.2)\n"
   ]
  },
  {
   "cell_type": "code",
   "execution_count": 3,
   "metadata": {},
   "outputs": [
    {
     "name": "stderr",
     "output_type": "stream",
     "text": [
      "/usr/local/lib/python3.5/dist-packages/ipykernel_launcher.py:2: SettingWithCopyWarning: \n",
      "A value is trying to be set on a copy of a slice from a DataFrame.\n",
      "Try using .loc[row_indexer,col_indexer] = value instead\n",
      "\n",
      "See the caveats in the documentation: http://pandas.pydata.org/pandas-docs/stable/indexing.html#indexing-view-versus-copy\n",
      "  \n"
     ]
    }
   ],
   "source": [
    "label_cols = ['toxic', 'severe_toxic', 'obscene', 'threat', 'insult', 'identity_hate']\n",
    "train['none'] = 1-train[label_cols].max(axis=1)"
   ]
  },
  {
   "cell_type": "code",
   "execution_count": 4,
   "metadata": {},
   "outputs": [
    {
     "name": "stderr",
     "output_type": "stream",
     "text": [
      "/usr/local/lib/python3.5/dist-packages/pandas/core/generic.py:3660: SettingWithCopyWarning: \n",
      "A value is trying to be set on a copy of a slice from a DataFrame\n",
      "\n",
      "See the caveats in the documentation: http://pandas.pydata.org/pandas-docs/stable/indexing.html#indexing-view-versus-copy\n",
      "  self._update_inplace(new_data)\n"
     ]
    }
   ],
   "source": [
    "train['comment_text'].fillna(\"cbarcelon\", inplace=True)\n",
    "test['comment_text'].fillna(\"cbarcelon\", inplace=True)\n",
    "classes = [\"toxic\", \"severe_toxic\", \"obscene\", \"threat\", \"insult\", \"identity_hate\"]\n",
    "train_ratings = train[classes].values\n",
    "test_ratings = test[classes].values"
   ]
  },
  {
   "cell_type": "code",
   "execution_count": 5,
   "metadata": {},
   "outputs": [],
   "source": [
    "import re, string\n",
    "re_tok = re.compile('([' + string.punctuation + '“”¨«»®´·º½¾¿¡§£₤‘’])')\n",
    "def tokenize(s): return re_tok.sub(r' \\1 ', s).split()"
   ]
  },
  {
   "cell_type": "code",
   "execution_count": 6,
   "metadata": {},
   "outputs": [],
   "source": [
    "n = train.shape[0]\n",
    "vec = TfidfVectorizer(ngram_range=(1,2), tokenizer=tokenize, min_df=11, max_df=0.7, strip_accents='unicode', use_idf=1, smooth_idf=1, sublinear_tf=1)\n",
    "trn_term_doc = vec.fit_transform(train['comment_text'])\n",
    "test_term_doc = vec.transform(test['comment_text'])"
   ]
  },
  {
   "cell_type": "code",
   "execution_count": 7,
   "metadata": {},
   "outputs": [],
   "source": [
    "from sklearn.base import BaseEstimator, ClassifierMixin\n",
    "from sklearn.utils.validation import check_X_y, check_is_fitted\n",
    "from sklearn.linear_model import LogisticRegression\n",
    "from scipy import sparse\n",
    "class NbSvmClassifier(BaseEstimator, ClassifierMixin):\n",
    "    def __init__(self, C=1.0, dual=False, n_jobs=1):\n",
    "        self.C = C\n",
    "        self.dual = dual\n",
    "        self.n_jobs = n_jobs\n",
    "\n",
    "    def predict(self, x):\n",
    "        # Verify that model has been fit\n",
    "        check_is_fitted(self, ['_r', '_clf'])\n",
    "        return self._clf.predict(x.multiply(self._r))\n",
    "\n",
    "    def predict_proba(self, x):\n",
    "        # Verify that model has been fit\n",
    "        check_is_fitted(self, ['_r', '_clf'])\n",
    "        return self._clf.predict_proba(x.multiply(self._r))\n",
    "\n",
    "    def fit(self, x, y):\n",
    "        # Check that X and y have correct shape\n",
    "        y = y.values\n",
    "        x, y = check_X_y(x, y, accept_sparse=True)\n",
    "\n",
    "        def pr(x, y_i, y):\n",
    "            p = x[y==y_i].sum(0)\n",
    "            return (p+1) / ((y==y_i).sum()+1)\n",
    "\n",
    "        self._r = sparse.csr_matrix(np.log(pr(x,1,y) / pr(x,0,y)))\n",
    "        x_nb = x.multiply(self._r)\n",
    "        self._clf = LogisticRegression(C=self.C, dual=self.dual, n_jobs=self.n_jobs).fit(x_nb, y)\n",
    "        return self"
   ]
  },
  {
   "cell_type": "code",
   "execution_count": 8,
   "metadata": {},
   "outputs": [
    {
     "name": "stdout",
     "output_type": "stream",
     "text": [
      "fit toxic\n"
     ]
    },
    {
     "name": "stderr",
     "output_type": "stream",
     "text": [
      "/usr/local/lib/python3.5/dist-packages/sklearn/linear_model/logistic.py:1228: UserWarning: 'n_jobs' > 1 does not have any effect when 'solver' is set to 'liblinear'. Got 'n_jobs' = -1.\n",
      "  \" = {}.\".format(self.n_jobs))\n"
     ]
    },
    {
     "name": "stdout",
     "output_type": "stream",
     "text": [
      "fit severe_toxic\n",
      "fit obscene\n",
      "fit threat\n",
      "fit insult\n",
      "fit identity_hate\n"
     ]
    }
   ],
   "source": [
    "model = NbSvmClassifier(C=1, dual=True, n_jobs=-1)\n",
    "nbsvmpreds = np.zeros((len(test), len(label_cols)))\n",
    "for i, j in enumerate(label_cols):\n",
    "    print('fit', j)\n",
    "    model.fit(trn_term_doc, train[j])\n",
    "    nbsvmpreds[:,i] = model.predict_proba(test_term_doc)[:,1]"
   ]
  },
  {
   "cell_type": "code",
   "execution_count": 9,
   "metadata": {},
   "outputs": [
    {
     "name": "stderr",
     "output_type": "stream",
     "text": [
      "Using TensorFlow backend.\n"
     ]
    }
   ],
   "source": [
    "from keras.models import Sequential\n",
    "from keras.layers import Dense, Embedding, Input, Flatten\n",
    "from keras.layers import LSTM, Bidirectional, GlobalMaxPool1D, Dropout, AveragePooling1D, AveragePooling2D\n",
    "from keras.preprocessing import text, sequence\n",
    "from keras.callbacks import EarlyStopping, ModelCheckpoint"
   ]
  },
  {
   "cell_type": "code",
   "execution_count": 10,
   "metadata": {},
   "outputs": [],
   "source": [
    "#Replace all blank comments with text in training set\n",
    "#extract training comments \n",
    "comments_train = train[\"comment_text\"].fillna(\"cbarcelon\").values\n",
    "#extract the toxciity ratings\n",
    "classes = [\"toxic\", \"severe_toxic\", \"obscene\", \"threat\", \"insult\", \"identity_hate\"]\n",
    "train_ratings = train[classes].values\n",
    "test_ratings = test[classes].values\n",
    "#extract test comments\n",
    "comments_test = test[\"comment_text\"].fillna(\"cbarcelon\").values\n",
    "\n",
    "#tokenizer the text\n",
    "#vectorize text\n",
    "tokenizer = text.Tokenizer()\n",
    "tokenizer.fit_on_texts(list(comments_train))\n",
    "tokenized_comments_train = tokenizer.texts_to_sequences(comments_train)\n",
    "tokenized_comments_test = tokenizer.texts_to_sequences(comments_test)\n",
    "#pad the text so each comment is uniform in length\n",
    "X_train = sequence.pad_sequences(tokenized_comments_train, maxlen=100, truncating='post')\n",
    "X_test = sequence.pad_sequences(tokenized_comments_test, maxlen=100,  truncating='post')"
   ]
  },
  {
   "cell_type": "code",
   "execution_count": 11,
   "metadata": {},
   "outputs": [
    {
     "name": "stdout",
     "output_type": "stream",
     "text": [
      "Loaded 1193514 word vectors.\n"
     ]
    }
   ],
   "source": [
    "#load in glove embeddings\n",
    "embeddings_index = dict()\n",
    "f = open('glove.twitter.27B.100d.txt')\n",
    "for line in f:\n",
    "    values = line.split()\n",
    "    word = values[0]\n",
    "    coefs = np.asarray(values[1:], dtype='float32')\n",
    "    embeddings_index[word] = coefs\n",
    "f.close()\n",
    "print('Loaded %s word vectors.' % len(embeddings_index))"
   ]
  },
  {
   "cell_type": "code",
   "execution_count": 12,
   "metadata": {},
   "outputs": [],
   "source": [
    "vocab_size = len(tokenizer.word_index) + 1\n",
    "embedding_matrix = np.zeros((vocab_size, 100))\n",
    "for word, i in tokenizer.word_index.items():\n",
    "    embedding_vector = embeddings_index.get(word)\n",
    "    if embedding_vector is not None:\n",
    "        embedding_matrix[i] = embedding_vector"
   ]
  },
  {
   "cell_type": "code",
   "execution_count": 13,
   "metadata": {},
   "outputs": [
    {
     "name": "stdout",
     "output_type": "stream",
     "text": [
      "_________________________________________________________________\n",
      "Layer (type)                 Output Shape              Param #   \n",
      "=================================================================\n",
      "embedding_1 (Embedding)      (None, 100, 100)          13367900  \n",
      "_________________________________________________________________\n",
      "bidirectional_1 (Bidirection (None, 100, 400)          481600    \n",
      "_________________________________________________________________\n",
      "average_pooling1d_1 (Average (None, 50, 400)           0         \n",
      "_________________________________________________________________\n",
      "bidirectional_2 (Bidirection (None, 50, 400)           961600    \n",
      "_________________________________________________________________\n",
      "average_pooling1d_2 (Average (None, 25, 400)           0         \n",
      "_________________________________________________________________\n",
      "bidirectional_3 (Bidirection (None, 25, 400)           961600    \n",
      "_________________________________________________________________\n",
      "flatten_1 (Flatten)          (None, 10000)             0         \n",
      "_________________________________________________________________\n",
      "dropout_1 (Dropout)          (None, 10000)             0         \n",
      "_________________________________________________________________\n",
      "dense_1 (Dense)              (None, 500)               5000500   \n",
      "_________________________________________________________________\n",
      "dropout_2 (Dropout)          (None, 500)               0         \n",
      "_________________________________________________________________\n",
      "dense_2 (Dense)              (None, 6)                 3006      \n",
      "=================================================================\n",
      "Total params: 20,776,206\n",
      "Trainable params: 20,776,206\n",
      "Non-trainable params: 0\n",
      "_________________________________________________________________\n"
     ]
    }
   ],
   "source": [
    "#define LSTM sequential model\n",
    "lstm = Sequential()\n",
    "lstm.add(Embedding(vocab_size, output_dim=100, weights=[embedding_matrix], input_length=100, trainable=True))\n",
    "lstm.add(Bidirectional(LSTM(200, return_sequences=True, dropout=0.3, recurrent_dropout=0.3)))\n",
    "lstm.add(AveragePooling1D())\n",
    "lstm.add(Bidirectional(LSTM(200, return_sequences=True, dropout=0.3, recurrent_dropout=0.3)))\n",
    "lstm.add(AveragePooling1D())\n",
    "lstm.add(Bidirectional(LSTM(200, return_sequences=True, dropout=0.3, recurrent_dropout=0.3)))\n",
    "#lstm.add(AveragePooling1D())\n",
    "lstm.add(Flatten())\n",
    "lstm.add(Dropout(.5))\n",
    "lstm.add(Dense(500, activation='relu'))\n",
    "lstm.add(Dropout(.5))\n",
    "lstm.add(Dense(6, activation = \"sigmoid\"))\n",
    "\n",
    "lstm.summary()"
   ]
  },
  {
   "cell_type": "code",
   "execution_count": 14,
   "metadata": {},
   "outputs": [],
   "source": [
    "#compile the model\n",
    "lstm.compile(loss='binary_crossentropy', optimizer='adam', metrics=['accuracy'])"
   ]
  },
  {
   "cell_type": "code",
   "execution_count": 15,
   "metadata": {},
   "outputs": [],
   "source": [
    "#create checkpoint file\n",
    "file_path = \"weights_base.best.hdf5\"\n",
    "checkpoint = ModelCheckpoint(file_path, monitor='val_loss', verbose=1, save_best_only=True, mode='min')\n",
    "\n",
    "#early stop checkpoint\n",
    "early = EarlyStopping(monitor='val_loss', mode='min', patience=5)\n",
    "callbacks_list = [checkpoint, early] "
   ]
  },
  {
   "cell_type": "code",
   "execution_count": 16,
   "metadata": {},
   "outputs": [
    {
     "name": "stdout",
     "output_type": "stream",
     "text": [
      "Train on 69012 samples, validate on 7668 samples\n",
      "Epoch 1/4\n",
      "69000/69012 [============================>.] - ETA: 0s - loss: 0.0818 - acc: 0.9732Epoch 00000: val_loss improved from inf to 0.05402, saving model to weights_base.best.hdf5\n",
      "69012/69012 [==============================] - 220s - loss: 0.0818 - acc: 0.9732 - val_loss: 0.0540 - val_acc: 0.9795\n",
      "Epoch 2/4\n",
      "69000/69012 [============================>.] - ETA: 0s - loss: 0.0523 - acc: 0.9812Epoch 00001: val_loss improved from 0.05402 to 0.05048, saving model to weights_base.best.hdf5\n",
      "69012/69012 [==============================] - 208s - loss: 0.0523 - acc: 0.9812 - val_loss: 0.0505 - val_acc: 0.9817\n",
      "Epoch 3/4\n",
      "69000/69012 [============================>.] - ETA: 0s - loss: 0.0467 - acc: 0.9827Epoch 00002: val_loss did not improve\n",
      "69012/69012 [==============================] - 194s - loss: 0.0467 - acc: 0.9827 - val_loss: 0.0525 - val_acc: 0.9810\n",
      "Epoch 4/4\n",
      "69000/69012 [============================>.] - ETA: 0s - loss: 0.0422 - acc: 0.9838Epoch 00003: val_loss improved from 0.05048 to 0.04957, saving model to weights_base.best.hdf5\n",
      "69012/69012 [==============================] - 205s - loss: 0.0422 - acc: 0.9838 - val_loss: 0.0496 - val_acc: 0.9822\n"
     ]
    },
    {
     "data": {
      "text/plain": [
       "<keras.callbacks.History at 0x7fe53e576f98>"
      ]
     },
     "execution_count": 16,
     "metadata": {},
     "output_type": "execute_result"
    }
   ],
   "source": [
    "#train/fit the model\n",
    "lstm.fit(X_train, train_ratings, batch_size=250, epochs=4, validation_split=0.1, callbacks=callbacks_list)"
   ]
  },
  {
   "cell_type": "code",
   "execution_count": 17,
   "metadata": {},
   "outputs": [],
   "source": [
    "#load the best weights\n",
    "lstm.load_weights(file_path)\n",
    "\n",
    "#make predictions on test set\n",
    "lstmpred = lstm.predict(X_test)"
   ]
  },
  {
   "cell_type": "code",
   "execution_count": 18,
   "metadata": {},
   "outputs": [
    {
     "data": {
      "text/plain": [
       "(19171, 6)"
      ]
     },
     "execution_count": 18,
     "metadata": {},
     "output_type": "execute_result"
    }
   ],
   "source": [
    "lstmpred.shape"
   ]
  },
  {
   "cell_type": "code",
   "execution_count": 19,
   "metadata": {},
   "outputs": [
    {
     "data": {
      "text/plain": [
       "(19171, 6)"
      ]
     },
     "execution_count": 19,
     "metadata": {},
     "output_type": "execute_result"
    }
   ],
   "source": [
    "nbsvmpreds.shape"
   ]
  },
  {
   "cell_type": "code",
   "execution_count": 20,
   "metadata": {},
   "outputs": [],
   "source": [
    "columns =[0,1,2,3,4,5]\n",
    "ensemble = lstmpred.copy()\n",
    "ensemble[columns] = (lstmpred[columns] + nbsvmpreds[columns]) / 2"
   ]
  },
  {
   "cell_type": "code",
   "execution_count": 21,
   "metadata": {},
   "outputs": [
    {
     "data": {
      "text/plain": [
       "array([ 0.00442134,  0.00050988,  0.00199274,  0.0002876 ,  0.00258671,\n",
       "        0.00141049], dtype=float32)"
      ]
     },
     "execution_count": 21,
     "metadata": {},
     "output_type": "execute_result"
    }
   ],
   "source": [
    "ensemble[0]"
   ]
  },
  {
   "cell_type": "code",
   "execution_count": 22,
   "metadata": {},
   "outputs": [
    {
     "data": {
      "text/plain": [
       "array([  2.34718973e-04,   6.90853739e-08,   2.49891236e-05,\n",
       "         8.26695214e-07,   9.26668145e-06,   8.26879784e-07], dtype=float32)"
      ]
     },
     "execution_count": 22,
     "metadata": {},
     "output_type": "execute_result"
    }
   ],
   "source": [
    "lstmpred[0]"
   ]
  },
  {
   "cell_type": "code",
   "execution_count": 23,
   "metadata": {},
   "outputs": [
    {
     "data": {
      "text/plain": [
       "array([ 0.00860796,  0.00101968,  0.0039605 ,  0.00057437,  0.00516415,\n",
       "        0.00282015])"
      ]
     },
     "execution_count": 23,
     "metadata": {},
     "output_type": "execute_result"
    }
   ],
   "source": [
    "nbsvmpreds[0]"
   ]
  },
  {
   "cell_type": "code",
   "execution_count": 24,
   "metadata": {},
   "outputs": [],
   "source": [
    "#log loss score function\n",
    "from sklearn.metrics import log_loss\n",
    "def calc_loss(y_true, y_pred):\n",
    "    return np.mean([log_loss(y_true[:, i], y_pred[:, i]) \n",
    "                    for i in range(y_true.shape[1])])"
   ]
  },
  {
   "cell_type": "code",
   "execution_count": 25,
   "metadata": {},
   "outputs": [
    {
     "name": "stdout",
     "output_type": "stream",
     "text": [
      "nbsvm  0.0538449910671\n"
     ]
    }
   ],
   "source": [
    "score = calc_loss(test_ratings, nbsvmpreds)\n",
    "print(\"nbsvm \", score)"
   ]
  },
  {
   "cell_type": "code",
   "execution_count": 26,
   "metadata": {},
   "outputs": [
    {
     "name": "stdout",
     "output_type": "stream",
     "text": [
      "lstm  0.048896056333\n"
     ]
    }
   ],
   "source": [
    "score = calc_loss(test_ratings, lstmpred)\n",
    "print(\"lstm \", score)"
   ]
  },
  {
   "cell_type": "code",
   "execution_count": 27,
   "metadata": {},
   "outputs": [
    {
     "name": "stdout",
     "output_type": "stream",
     "text": [
      "ensemble  0.0488916843013\n"
     ]
    }
   ],
   "source": [
    "score = calc_loss(test_ratings, ensemble)\n",
    "print(\"ensemble \", score)"
   ]
  },
  {
   "cell_type": "code",
   "execution_count": 28,
   "metadata": {},
   "outputs": [
    {
     "data": {
      "text/plain": [
       "'Sorry. If there is a forum was not started by me. It is here already in the promotion of the fact that blacks are incarcerated at a higher rate than whites. This is true. There is a reason for that. It is, however, omitted from here.'"
      ]
     },
     "execution_count": 28,
     "metadata": {},
     "output_type": "execute_result"
    }
   ],
   "source": [
    "comments_test[0]"
   ]
  },
  {
   "cell_type": "code",
   "execution_count": 29,
   "metadata": {},
   "outputs": [
    {
     "data": {
      "text/plain": [
       "array([  2.34718973e-04,   6.90853739e-08,   2.49891236e-05,\n",
       "         8.26695214e-07,   9.26668145e-06,   8.26879784e-07], dtype=float32)"
      ]
     },
     "execution_count": 29,
     "metadata": {},
     "output_type": "execute_result"
    }
   ],
   "source": [
    "lstmpred[0]"
   ]
  },
  {
   "cell_type": "code",
   "execution_count": 30,
   "metadata": {},
   "outputs": [
    {
     "name": "stdout",
     "output_type": "stream",
     "text": [
      "Sorry. If there is a forum was not started by me. It is here already in the promotion of the fact that blacks are incarcerated at a higher rate than whites. This is true. There is a reason for that. It is, however, omitted from here.\n",
      "['toxic', 'severe_toxic', 'obscene', 'threat', 'insult', 'identity_hate']\n",
      "[  2.34718973e-04   6.90853739e-08   2.49891236e-05   8.26695214e-07\n",
      "   9.26668145e-06   8.26879784e-07]\n",
      "[0 0 0 0 0 0]\n"
     ]
    }
   ],
   "source": [
    "x = 0\n",
    "print(comments_test[x])\n",
    "print(classes)\n",
    "print(lstmpred[x])\n",
    "print(test_ratings[x])"
   ]
  },
  {
   "cell_type": "code",
   "execution_count": 35,
   "metadata": {},
   "outputs": [],
   "source": [
    "def toxicity_scores(y_true, y_pred):\n",
    "    tmp_score=0\n",
    "    score=[]\n",
    "    for i in range(y_true.shape[1]):\n",
    "        tmp_score = np.mean([log_loss(y_true[:, i], y_pred[:, i])])\n",
    "        score.append(tmp_score)\n",
    "    return score    "
   ]
  },
  {
   "cell_type": "code",
   "execution_count": 38,
   "metadata": {},
   "outputs": [
    {
     "name": "stdout",
     "output_type": "stream",
     "text": [
      "[0.11107782629130709, 0.028725921024631444, 0.062971086932683107, 0.011588617040792259, 0.080670294201881293, 0.028036200911578404]\n",
      "[0.10270607920423758, 0.023866310180808179, 0.052381490846634925, 0.013465191952131389, 0.070436058510211452, 0.030521207304078816]\n",
      "[0.10268884946912027, 0.023866475781242128, 0.052374369031429689, 0.013465348730348379, 0.070433847803105326, 0.030521214992341207]\n"
     ]
    }
   ],
   "source": [
    "nbsvmscores = toxicity_scores(test_ratings, nbsvmpreds)\n",
    "print (nbsvmscores)\n",
    "lstmscores = toxicity_scores(test_ratings, lstmpred)\n",
    "print (lstmscores)\n",
    "ensemblescores = toxicity_scores(test_ratings, ensemble)\n",
    "print (ensemblescores)"
   ]
  },
  {
   "cell_type": "code",
   "execution_count": 40,
   "metadata": {},
   "outputs": [
    {
     "name": "stdout",
     "output_type": "stream",
     "text": [
      "0.0538449910671\n",
      "0.048896056333\n",
      "0.0488916843013\n"
     ]
    }
   ],
   "source": [
    "print(np.mean(nbsvmscores))\n",
    "print(np.mean(lstmscores))\n",
    "print(np.mean(ensemblescores))"
   ]
  },
  {
   "cell_type": "code",
   "execution_count": 55,
   "metadata": {},
   "outputs": [
    {
     "data": {
      "image/png": "[encoded data removed]",
      "text/plain": [
       "<matplotlib.figure.Figure at 0x7fe533a1f748>"
      ]
     },
     "metadata": {},
     "output_type": "display_data"
    }
   ],
   "source": [
    "import matplotlib.pyplot as plt\n",
    "plt.plot(nbsvmscores,'ro',lstmscores, 'bo')\n",
    "plt.ylabel('log loss score')\n",
    "plt.show()"
   ]
  },
  {
   "cell_type": "code",
   "execution_count": 83,
   "metadata": {},
   "outputs": [
    {
     "data": {
      "image/png": "[encoded data removed]",
      "text/plain": [
       "<matplotlib.figure.Figure at 0x7fe53359b2e8>"
      ]
     },
     "metadata": {},
     "output_type": "display_data"
    }
   ],
   "source": [
    "import numpy as np\n",
    "import matplotlib.pyplot as plt\n",
    " \n",
    "# data to plot\n",
    "n_groups = 6\n",
    "# create plot\n",
    "fig, ax = plt.subplots(figsize=(15, 8))\n",
    "index = np.arange(n_groups)\n",
    "bar_width = 0.3\n",
    "opacity = 1\n",
    " \n",
    "rects1 = plt.bar(index, nbsvmscores, bar_width,\n",
    "                 alpha=opacity,\n",
    "                 color='b',\n",
    "                 label='NBSVM')\n",
    " \n",
    "rects2 = plt.bar(index + bar_width, lstmscores, bar_width,\n",
    "                 alpha=opacity,\n",
    "                 color='g',\n",
    "                 label='LSTM')\n",
    "\n",
    "rects3 = plt.bar(index + 2*bar_width, ensemblescores, bar_width,\n",
    "                 alpha=opacity,\n",
    "                 color='r',\n",
    "                 label='Ensemble')\n",
    " \n",
    "plt.xlabel('Toxicity', fontsize=20)\n",
    "plt.ylabel('Log Loss Scores', fontsize=20)\n",
    "plt.title('Scores by Model', fontsize=20)\n",
    "plt.xticks(index + bar_width, classes, fontsize=20)\n",
    "plt.legend()\n",
    " \n",
    "\n",
    "plt.show()"
   ]
  },
  {
   "cell_type": "code",
   "execution_count": null,
   "metadata": {},
   "outputs": [],
   "source": []
  }
 ],
 "metadata": {
  "kernelspec": {
   "display_name": "Python 3",
   "language": "python",
   "name": "python3"
  },
  "language_info": {
   "codemirror_mode": {
    "name": "ipython",
    "version": 3
   },
   "file_extension": ".py",
   "mimetype": "text/x-python",
   "name": "python",
   "nbconvert_exporter": "python",
   "pygments_lexer": "ipython3",
   "version": "3.5.2"
  }
 },
 "nbformat": 4,
 "nbformat_minor": 2
}
